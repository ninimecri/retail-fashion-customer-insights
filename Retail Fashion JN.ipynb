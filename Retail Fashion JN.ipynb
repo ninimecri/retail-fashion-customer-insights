{
 "cells": [
  {
   "cell_type": "code",
   "execution_count": 1,
   "id": "7732cf2d",
   "metadata": {},
   "outputs": [
    {
     "name": "stdout",
     "output_type": "stream",
     "text": [
      "<class 'pandas.core.frame.DataFrame'>\n",
      "RangeIndex: 3400 entries, 0 to 3399\n",
      "Data columns (total 6 columns):\n",
      " #   Column                 Non-Null Count  Dtype  \n",
      "---  ------                 --------------  -----  \n",
      " 0   Customer Reference ID  3400 non-null   int64  \n",
      " 1   Item Purchased         3400 non-null   object \n",
      " 2   Purchase Amount (USD)  2750 non-null   float64\n",
      " 3   Date Purchase          3400 non-null   object \n",
      " 4   Review Rating          3076 non-null   float64\n",
      " 5   Payment Method         3400 non-null   object \n",
      "dtypes: float64(2), int64(1), object(3)\n",
      "memory usage: 159.5+ KB\n",
      "None\n"
     ]
    }
   ],
   "source": [
    "# Proyecto inicial Retail Fashion\n",
    "# preprocesamiento.py\n",
    "\n",
    "import os\n",
    "import pandas as pd\n",
    "\n",
    "# Cargar datos y procesar CSV de Kaggle\n",
    "df = pd.read_csv(\n",
    "    \"C:/Users/kiera/OneDrive/Documents/Data Scientist Bootcamp/Retail Fashion env/fashion_retail_sales.csv\")\n",
    "\n",
    "os.makedirs(\"data/processed\", exist_ok=True)\n",
    "df.to_csv(\"data/processed/fashion_retail_clean.csv\", index=False)\n",
    "\n",
    "# Revisar estructura\n",
    "print(df.info())\n",
    "\n",
    "# 2. Estandarizar nombres de columnas\n",
    "df.columns = df.columns.str.strip().str.lower().str.replace(' ', '_')\n",
    "\n"
   ]
  },
  {
   "cell_type": "code",
   "execution_count": 2,
   "id": "0339360f",
   "metadata": {},
   "outputs": [
    {
     "name": "stdout",
     "output_type": "stream",
     "text": [
      "\n",
      " Dimensiones: (3400, 6)\n",
      "\n",
      " Primeras filas:\n",
      "    customer_reference_id item_purchased  purchase_amount_(usd) date_purchase  \\\n",
      "0                   4018        Handbag                 4619.0    05-02-2023   \n",
      "1                   4115          Tunic                 2456.0    11-07-2023   \n",
      "2                   4019       Tank Top                 2102.0    23-03-2023   \n",
      "3                   4097       Leggings                 3126.0    15-03-2023   \n",
      "4                   3997         Wallet                 3003.0    27-11-2022   \n",
      "\n",
      "   review_rating payment_method  \n",
      "0            NaN    Credit Card  \n",
      "1            2.0    Credit Card  \n",
      "2            4.1           Cash  \n",
      "3            3.2           Cash  \n",
      "4            4.7           Cash  \n",
      "\n",
      " Duplicados: 0\n",
      "\n",
      " Valores nulos:\n",
      " customer_reference_id      0\n",
      "item_purchased             0\n",
      "purchase_amount_(usd)    650\n",
      "date_purchase              0\n",
      "review_rating            324\n",
      "payment_method             0\n",
      "dtype: int64\n"
     ]
    }
   ],
   "source": [
    "# 3. Verificar estructura\n",
    "print(\"\\n Dimensiones:\", df.shape)\n",
    "print(\"\\n Primeras filas:\\n\", df.head())\n",
    "\n",
    "# 4. Revisar duplicados\n",
    "print(\"\\n Duplicados:\", df.duplicated().sum())\n",
    "df = df.drop_duplicates()\n",
    "\n",
    "# 5. Revisar valores nulos\n",
    "print(\"\\n Valores nulos:\\n\", df.isnull().sum())"
   ]
  },
  {
   "cell_type": "code",
   "execution_count": 3,
   "id": "22f4891a",
   "metadata": {},
   "outputs": [
    {
     "name": "stdout",
     "output_type": "stream",
     "text": [
      "\n",
      " Valores nulos después del procesamiento:\n",
      " customer_reference_id    0\n",
      "item_purchased           0\n",
      "purchase_amount_(usd)    0\n",
      "date_purchase            0\n",
      "review_rating            0\n",
      "payment_method           0\n",
      "dtype: int64\n"
     ]
    },
    {
     "name": "stderr",
     "output_type": "stream",
     "text": [
      "C:\\Users\\kiera\\AppData\\Local\\Temp\\ipykernel_109644\\1464101878.py:9: FutureWarning: A value is trying to be set on a copy of a DataFrame or Series through chained assignment using an inplace method.\n",
      "The behavior will change in pandas 3.0. This inplace method will never work because the intermediate object on which we are setting values always behaves as a copy.\n",
      "\n",
      "For example, when doing 'df[col].method(value, inplace=True)', try using 'df.method({col: value}, inplace=True)' or df[col] = df[col].method(value) instead, to perform the operation inplace on the original object.\n",
      "\n",
      "\n",
      "  df['purchase_amount_(usd)'].fillna(\n",
      "C:\\Users\\kiera\\AppData\\Local\\Temp\\ipykernel_109644\\1464101878.py:11: FutureWarning: A value is trying to be set on a copy of a DataFrame or Series through chained assignment using an inplace method.\n",
      "The behavior will change in pandas 3.0. This inplace method will never work because the intermediate object on which we are setting values always behaves as a copy.\n",
      "\n",
      "For example, when doing 'df[col].method(value, inplace=True)', try using 'df.method({col: value}, inplace=True)' or df[col] = df[col].method(value) instead, to perform the operation inplace on the original object.\n",
      "\n",
      "\n",
      "  df['review_rating'].fillna(df['review_rating'].mean(), inplace=True)\n"
     ]
    }
   ],
   "source": [
    "# 6. Convertir columnas\n",
    "df['purchase_amount_(usd)'] = pd.to_numeric(\n",
    "    df['purchase_amount_(usd)'], errors='coerce')\n",
    "df['review_rating'] = pd.to_numeric(df['review_rating'], errors='coerce')\n",
    "df['date_purchase'] = pd.to_datetime(\n",
    "    df['date_purchase'], format=\"%d-%m-%Y\", errors='coerce')\n",
    "\n",
    "# 7. Rellenar nulos con la media\n",
    "df['purchase_amount_(usd)'].fillna(\n",
    "    df['purchase_amount_(usd)'].mean(), inplace=True)\n",
    "df['review_rating'].fillna(df['review_rating'].mean(), inplace=True)\n",
    "\n",
    "print(\"\\n Valores nulos después del procesamiento:\\n\", df.isnull().sum())"
   ]
  },
  {
   "cell_type": "code",
   "execution_count": null,
   "id": "5675032d",
   "metadata": {},
   "outputs": [],
   "source": []
  },
  {
   "cell_type": "code",
   "execution_count": null,
   "id": "e39e2108",
   "metadata": {},
   "outputs": [],
   "source": []
  }
 ],
 "metadata": {
  "kernelspec": {
   "display_name": "Python (venv)",
   "language": "python",
   "name": "venv"
  },
  "language_info": {
   "codemirror_mode": {
    "name": "ipython",
    "version": 3
   },
   "file_extension": ".py",
   "mimetype": "text/x-python",
   "name": "python",
   "nbconvert_exporter": "python",
   "pygments_lexer": "ipython3",
   "version": "3.13.2"
  }
 },
 "nbformat": 4,
 "nbformat_minor": 5
}
